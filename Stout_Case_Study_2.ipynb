{
 "cells": [
  {
   "cell_type": "markdown",
   "id": "44ff4e4e",
   "metadata": {},
   "source": [
    "# PART 2- Revenue Analysis"
   ]
  },
  {
   "cell_type": "code",
   "execution_count": 1,
   "id": "19ca3f47",
   "metadata": {},
   "outputs": [
    {
     "data": {
      "text/html": [
       "<div>\n",
       "<style scoped>\n",
       "    .dataframe tbody tr th:only-of-type {\n",
       "        vertical-align: middle;\n",
       "    }\n",
       "\n",
       "    .dataframe tbody tr th {\n",
       "        vertical-align: top;\n",
       "    }\n",
       "\n",
       "    .dataframe thead th {\n",
       "        text-align: right;\n",
       "    }\n",
       "</style>\n",
       "<table border=\"1\" class=\"dataframe\">\n",
       "  <thead>\n",
       "    <tr style=\"text-align: right;\">\n",
       "      <th></th>\n",
       "      <th>Unnamed: 0</th>\n",
       "      <th>customer_email</th>\n",
       "      <th>net_revenue</th>\n",
       "      <th>year</th>\n",
       "    </tr>\n",
       "  </thead>\n",
       "  <tbody>\n",
       "    <tr>\n",
       "      <th>0</th>\n",
       "      <td>0</td>\n",
       "      <td>nhknapwsbx@gmail.com</td>\n",
       "      <td>249.92</td>\n",
       "      <td>2015</td>\n",
       "    </tr>\n",
       "    <tr>\n",
       "      <th>1</th>\n",
       "      <td>1</td>\n",
       "      <td>joiuzbvcpn@gmail.com</td>\n",
       "      <td>87.61</td>\n",
       "      <td>2015</td>\n",
       "    </tr>\n",
       "    <tr>\n",
       "      <th>2</th>\n",
       "      <td>2</td>\n",
       "      <td>ukkjctepxt@gmail.com</td>\n",
       "      <td>168.38</td>\n",
       "      <td>2015</td>\n",
       "    </tr>\n",
       "    <tr>\n",
       "      <th>3</th>\n",
       "      <td>3</td>\n",
       "      <td>gykatilzrt@gmail.com</td>\n",
       "      <td>62.40</td>\n",
       "      <td>2015</td>\n",
       "    </tr>\n",
       "    <tr>\n",
       "      <th>4</th>\n",
       "      <td>4</td>\n",
       "      <td>mmsgsrtxah@gmail.com</td>\n",
       "      <td>43.08</td>\n",
       "      <td>2015</td>\n",
       "    </tr>\n",
       "  </tbody>\n",
       "</table>\n",
       "</div>"
      ],
      "text/plain": [
       "   Unnamed: 0         customer_email  net_revenue  year\n",
       "0           0   nhknapwsbx@gmail.com       249.92  2015\n",
       "1           1   joiuzbvcpn@gmail.com        87.61  2015\n",
       "2           2   ukkjctepxt@gmail.com       168.38  2015\n",
       "3           3   gykatilzrt@gmail.com        62.40  2015\n",
       "4           4   mmsgsrtxah@gmail.com        43.08  2015"
      ]
     },
     "execution_count": 1,
     "metadata": {},
     "output_type": "execute_result"
    }
   ],
   "source": [
    "import numpy as np\n",
    "import pandas as pd\n",
    "import matplotlib.pyplot as plt\n",
    "from IPython.display import display\n",
    "import seaborn as sns\n",
    "\n",
    "colors = [\"#8DC63F\", \"#0F9AD6\", \"#013C5B\", \"#698795\", \"#000000\"]\n",
    "sns.set_palette(sns.color_palette(colors))\n",
    "\n",
    "df = pd.read_csv('casestudy.csv')#.drop('Unnamed: 0', axis=1)\n",
    "df.head()"
   ]
  },
  {
   "cell_type": "markdown",
   "id": "e0eb6b15",
   "metadata": {},
   "source": [
    "First, I want to confirm that the index column is the same as the native index. If it is, I'll drop it."
   ]
  },
  {
   "cell_type": "code",
   "execution_count": 2,
   "id": "4a0d0ad7",
   "metadata": {},
   "outputs": [],
   "source": [
    "assert sum(df['Unnamed: 0'].values == np.arange(685927)) == df.shape[0]\n",
    "df = df.drop('Unnamed: 0', axis=1) "
   ]
  },
  {
   "cell_type": "markdown",
   "id": "d8cba8a3",
   "metadata": {},
   "source": [
    "The problem statement is as follows:\n",
    "\n",
    "For each year we need the following information:\n",
    "- Total revenue for the current year\n",
    "- New Customer Revenue e.g. new customers not present in previous year only\n",
    "- Existing Customer Growth. To calculate this, use the Revenue of existing customers for current year –(minus) Revenue of existing customers from the previous year\n",
    "- Revenue lost from attrition\n",
    "- Existing Customer Revenue Current Year\n",
    "- Existing Customer Revenue Prior Year\n",
    "- Total Customers Current Year\n",
    "- Total Customers Previous Year\n",
    "- New Customers\n",
    "- Lost Customers\n"
   ]
  },
  {
   "cell_type": "markdown",
   "id": "061f112e",
   "metadata": {},
   "source": [
    "One thing I noticed along the way is that there is some whitespace in some of the customer_email values. I'm going to strip those really quick so that it doesn't cause any problems in looking for matches:"
   ]
  },
  {
   "cell_type": "code",
   "execution_count": 3,
   "id": "11bcb5c1",
   "metadata": {},
   "outputs": [],
   "source": [
    "df['customer_email'] = df['customer_email'].apply(lambda x: x.strip())"
   ]
  },
  {
   "cell_type": "markdown",
   "id": "16e0bf82",
   "metadata": {},
   "source": [
    "### Total Revenue\n",
    "\n",
    "One thing to note is that the problem asks for the total revenue, but we are given the \"net revenue.\" I'm going to assume for now that this is what we are being asked to add up, because I can't think of a way to recover the gross revenue."
   ]
  },
  {
   "cell_type": "code",
   "execution_count": 4,
   "id": "a549b6b0",
   "metadata": {},
   "outputs": [
    {
     "data": {
      "text/html": [
       "<div>\n",
       "<style scoped>\n",
       "    .dataframe tbody tr th:only-of-type {\n",
       "        vertical-align: middle;\n",
       "    }\n",
       "\n",
       "    .dataframe tbody tr th {\n",
       "        vertical-align: top;\n",
       "    }\n",
       "\n",
       "    .dataframe thead th {\n",
       "        text-align: right;\n",
       "    }\n",
       "</style>\n",
       "<table border=\"1\" class=\"dataframe\">\n",
       "  <thead>\n",
       "    <tr style=\"text-align: right;\">\n",
       "      <th></th>\n",
       "      <th>Yearly Revenue</th>\n",
       "    </tr>\n",
       "    <tr>\n",
       "      <th>year</th>\n",
       "      <th></th>\n",
       "    </tr>\n",
       "  </thead>\n",
       "  <tbody>\n",
       "    <tr>\n",
       "      <th>2015</th>\n",
       "      <td>29036749.19</td>\n",
       "    </tr>\n",
       "    <tr>\n",
       "      <th>2016</th>\n",
       "      <td>25730943.59</td>\n",
       "    </tr>\n",
       "    <tr>\n",
       "      <th>2017</th>\n",
       "      <td>31417495.03</td>\n",
       "    </tr>\n",
       "  </tbody>\n",
       "</table>\n",
       "</div>"
      ],
      "text/plain": [
       "      Yearly Revenue\n",
       "year                \n",
       "2015     29036749.19\n",
       "2016     25730943.59\n",
       "2017     31417495.03"
      ]
     },
     "metadata": {},
     "output_type": "display_data"
    }
   ],
   "source": [
    "total_rev = df.groupby('year')['net_revenue'].sum()\n",
    "display(pd.DataFrame(total_rev.rename('Yearly Revenue')))\n"
   ]
  },
  {
   "cell_type": "markdown",
   "id": "744b7187",
   "metadata": {},
   "source": [
    "### New Customer Revenue\n",
    "\n",
    "I'm only going to return values for 2016 and 2017, as we don't have information about customers pre-2015.\n"
   ]
  },
  {
   "cell_type": "code",
   "execution_count": 5,
   "id": "f2a9e9e5",
   "metadata": {},
   "outputs": [
    {
     "name": "stdout",
     "output_type": "stream",
     "text": [
      "Total new customer revenue (2016): 17206366.90\n",
      "Total new customer revenue (2017): 21769213.01\n"
     ]
    }
   ],
   "source": [
    "df_2015 = df[df['year']==2015]\n",
    "df_2016 = df[df['year']==2016]\n",
    "df_2017 = df[df['year']==2017]\n",
    "custs_2015 = set(df_2015.customer_email.values)\n",
    "custs_2016 = set(df_2016.customer_email.values)\n",
    "custs_2017 = set(df_2017.customer_email.values)\n",
    "\n",
    "new_custs_2016 = list(custs_2016-custs_2015)\n",
    "new_custs_2017 = list(custs_2017-custs_2016)\n",
    "\n",
    "new_customer_2016_rev = sum(df_2016.set_index('customer_email').loc[new_custs_2016]['net_revenue'])\n",
    "new_customer_2017_rev = sum(df_2017.set_index('customer_email').loc[new_custs_2017]['net_revenue'])\n",
    "print('Total new customer revenue (2016): {:.2f}'.format(new_customer_2016_rev))\n",
    "print('Total new customer revenue (2017): {:.2f}'.format(new_customer_2017_rev))\n"
   ]
  },
  {
   "cell_type": "markdown",
   "id": "fe1bd7ab",
   "metadata": {},
   "source": [
    "### Existing Customer Growth. \n",
    "\n",
    "Again, I'm going to return values for 2016 and 2017 only, as we do not have data on the existing customers in 2014.\n",
    "\n",
    "I'm going to assume we want to track the customer revenue growth for consistent customers year-to-year, and not all customers that existed in a given year."
   ]
  },
  {
   "cell_type": "code",
   "execution_count": 6,
   "id": "3f2100e6",
   "metadata": {},
   "outputs": [
    {
     "name": "stdout",
     "output_type": "stream",
     "text": [
      "Total existing customer growth (2016): 39043.65\n",
      "Total existing customer growth (2017): 63857.06\n"
     ]
    }
   ],
   "source": [
    "existing_custs_2016 = list(custs_2016.intersection(custs_2015))\n",
    "existing_custs_2017 = list(custs_2017.intersection(custs_2016))\n",
    "\n",
    "# Customers that existed in 2015 and 2016\n",
    "existing_customer_2015 = sum(df_2015.set_index('customer_email').loc[existing_custs_2016]['net_revenue'])\n",
    "existing_customer_2016_1 = sum(df_2016.set_index('customer_email').loc[existing_custs_2016]['net_revenue'])\n",
    "\n",
    "# Customers that existed in 2016 and 2017\n",
    "existing_customer_2016_2 = sum(df_2016.set_index('customer_email').loc[existing_custs_2017]['net_revenue'])\n",
    "existing_customer_2017 = sum(df_2017.set_index('customer_email').loc[existing_custs_2017]['net_revenue'])\n",
    "\n",
    "existing_growth_2016 = existing_customer_2016_1 - existing_customer_2015\n",
    "existing_growth_2017 = existing_customer_2017 - existing_customer_2016_2\n",
    "\n",
    "print('Total existing customer growth (2016): {:.2f}'.format(existing_growth_2016))\n",
    "print('Total existing customer growth (2017): {:.2f}'.format(existing_growth_2017))\n"
   ]
  },
  {
   "cell_type": "markdown",
   "id": "24b5596b",
   "metadata": {},
   "source": [
    "### Revenue lost from attrition\n",
    "\n",
    "To calculate this, I will sum the revenue of each previous year for customers who did not appear in the next year, and assume that the revenue would be consistent for those customers in that new year had they stayed. "
   ]
  },
  {
   "cell_type": "code",
   "execution_count": 7,
   "id": "3acc0b98",
   "metadata": {},
   "outputs": [
    {
     "name": "stdout",
     "output_type": "stream",
     "text": [
      "Total estimated revenue lost due to churn (2016): 20551216.15\n",
      "Total estimated revenue lost due to churn (2017): 16146518.63\n"
     ]
    }
   ],
   "source": [
    "lost_2015 = list(custs_2015-custs_2016)\n",
    "lost_2016 = list(custs_2016-custs_2017)\n",
    "\n",
    "revenue_lost_2016 = sum(df_2015.set_index('customer_email').loc[lost_2015]['net_revenue'])\n",
    "revenue_lost_2017 = sum(df_2016.set_index('customer_email').loc[lost_2016]['net_revenue'])\n",
    "\n",
    "print('Total estimated revenue lost due to churn (2016): {:.2f}'.format(revenue_lost_2016))\n",
    "print('Total estimated revenue lost due to churn (2017): {:.2f}'.format(revenue_lost_2017))"
   ]
  },
  {
   "cell_type": "markdown",
   "id": "90c09b7c",
   "metadata": {},
   "source": [
    "### Existing Customer Revenue Current Year\n",
    "\n",
    "To calculate this, I'll look at the existing customers for 2016 and 2017, and calulate their total revenue. "
   ]
  },
  {
   "cell_type": "code",
   "execution_count": 8,
   "id": "7ddd6691",
   "metadata": {},
   "outputs": [
    {
     "name": "stdout",
     "output_type": "stream",
     "text": [
      "Existing customer revenue (2016): 8524576.69\n",
      "Existing customer revenue (2017): 9648282.02\n"
     ]
    }
   ],
   "source": [
    "existing_revenue_2016 = sum(df_2016.set_index('customer_email').loc[existing_custs_2016]['net_revenue'])\n",
    "existing_revenue_2017 = sum(df_2017.set_index('customer_email').loc[existing_custs_2017]['net_revenue'])\n",
    "\n",
    "print('Existing customer revenue (2016): {:.2f}'.format(existing_revenue_2016))\n",
    "print('Existing customer revenue (2017): {:.2f}'.format(existing_revenue_2017))"
   ]
  },
  {
   "cell_type": "markdown",
   "id": "edf29f56",
   "metadata": {},
   "source": [
    "### Existing Customer Revenue Prior Year\n",
    "\n",
    "To calculate this, I'll look at the existing customers for 2016 and 2017, and calulate their total revenue in the prior year. "
   ]
  },
  {
   "cell_type": "code",
   "execution_count": 9,
   "id": "ea6ac7d1",
   "metadata": {},
   "outputs": [
    {
     "name": "stdout",
     "output_type": "stream",
     "text": [
      "Existing customer revenue from prior year (2016): 8485533.04\n",
      "Existing customer revenue from prior year (2017): 9584424.96\n"
     ]
    }
   ],
   "source": [
    "existing_revenue_2015 = sum(df_2015.set_index('customer_email').loc[existing_custs_2016]['net_revenue'])\n",
    "existing_revenue_2016_1 = sum(df_2016.set_index('customer_email').loc[existing_custs_2017]['net_revenue'])\n",
    "\n",
    "print('Existing customer revenue from prior year (2016): {:.2f}'.format(existing_revenue_2015))\n",
    "print('Existing customer revenue from prior year (2017): {:.2f}'.format(existing_revenue_2016_1))"
   ]
  },
  {
   "cell_type": "markdown",
   "id": "cf8cf89f",
   "metadata": {},
   "source": [
    "### Total Customers Current Year\n",
    "\n",
    "To calculate the total customers per year, I'll simply take the size of the set of customers for each year"
   ]
  },
  {
   "cell_type": "code",
   "execution_count": 10,
   "id": "ce7ae203",
   "metadata": {},
   "outputs": [
    {
     "name": "stdout",
     "output_type": "stream",
     "text": [
      "Total number of customers (2015): 231294\n",
      "Total number of customers (2016): 204646\n",
      "Total number of customers (2017): 249987\n"
     ]
    }
   ],
   "source": [
    "total_custs_2015 = len(list(custs_2015))\n",
    "total_custs_2016 = len(list(custs_2016))\n",
    "total_custs_2017 = len(list(custs_2017))\n",
    "\n",
    "print('Total number of customers (2015): {:.0f}'.format(total_custs_2015))\n",
    "print('Total number of customers (2016): {:.0f}'.format(total_custs_2016))\n",
    "print('Total number of customers (2017): {:.0f}'.format(total_custs_2017))\n"
   ]
  },
  {
   "cell_type": "markdown",
   "id": "d57e184f",
   "metadata": {},
   "source": [
    "### Total Customers Previous Year\n",
    "\n",
    "I believe these should be the previous year's values for 2016 and 2017"
   ]
  },
  {
   "cell_type": "code",
   "execution_count": 11,
   "id": "546e2a23",
   "metadata": {},
   "outputs": [
    {
     "name": "stdout",
     "output_type": "stream",
     "text": [
      "Total number of customers in prior year (2016): 231294\n",
      "Total number of customers in prior year (2017): 204646\n"
     ]
    }
   ],
   "source": [
    "print('Total number of customers in prior year (2016): {:.0f}'.format(total_custs_2015))\n",
    "print('Total number of customers in prior year (2017): {:.0f}'.format(total_custs_2016))"
   ]
  },
  {
   "cell_type": "markdown",
   "id": "f5dd2b66",
   "metadata": {},
   "source": [
    "### New Customers and Lost Customers\n",
    "\n",
    "I can't think of an easy way to display these values, but I'll store them and display a sample of each"
   ]
  },
  {
   "cell_type": "code",
   "execution_count": 12,
   "id": "5e60a9b9",
   "metadata": {},
   "outputs": [
    {
     "name": "stdout",
     "output_type": "stream",
     "text": [
      "Some customers lost in 2016: \n",
      "['wswrekuvaa@gmail.com', 'kruhknffnx@gmail.com', 'ollheestav@gmail.com', 'jyfgowqwmd@gmail.com', 'zrxilmqmhk@gmail.com']\n",
      "Some customers gained in 2016: \n",
      "['psnsoqakep@gmail.com', 'lejyvxgjmo@gmail.com', 'tivhwoznkx@gmail.com', 'ueiygycavk@gmail.com', 'hgkvgklgaq@gmail.com']\n",
      "Some customers lost in 2017: \n",
      "['ibztkoytfe@gmail.com', 'tivhwoznkx@gmail.com', 'hzlkirbwlh@gmail.com', 'hgkvgklgaq@gmail.com', 'nsloarejcq@gmail.com']\n",
      "Some customers gained in 2017: \n",
      "['ppnevxeysr@gmail.com', 'vspjeftenp@gmail.com', 'fcvfgkanld@gmail.com', 'cgzrpcnlog@gmail.com', 'yxvqxporbt@gmail.com']\n"
     ]
    }
   ],
   "source": [
    "new_custs_2016 = list(custs_2016-custs_2015)\n",
    "new_custs_2017 = list(custs_2017-custs_2016)\n",
    "\n",
    "lost_custs_2016 = list(custs_2015-custs_2016)\n",
    "lost_custs_2017 = list(custs_2016-custs_2017)\n",
    "\n",
    "print('Some customers lost in 2016: ')\n",
    "print(lost_custs_2016[:5])\n",
    "\n",
    "print('Some customers gained in 2016: ')\n",
    "print(new_custs_2016[:5])\n",
    "\n",
    "print('Some customers lost in 2017: ')\n",
    "print(lost_custs_2017[:5])\n",
    "\n",
    "print('Some customers gained in 2017: ')\n",
    "print(new_custs_2017[:5])\n"
   ]
  },
  {
   "cell_type": "markdown",
   "id": "eef8a886",
   "metadata": {},
   "source": [
    "### Putting it all together\n",
    "\n",
    "Total revenue for the current year\n",
    "New Customer Revenue e.g. new customers not present in previous year only\n",
    "Existing Customer Growth. To calculate this, use the Revenue of existing customers for current year –(minus) Revenue of existing customers from the previous year\n",
    "Revenue lost from attrition\n",
    "Existing Customer Revenue Current Year\n",
    "Existing Customer Revenue Prior Year\n",
    "Total Customers Current Year\n",
    "Total Customers Previous Year\n",
    "New Customers\n",
    "Lost Customers"
   ]
  },
  {
   "cell_type": "code",
   "execution_count": 13,
   "id": "b319a77e",
   "metadata": {},
   "outputs": [
    {
     "data": {
      "text/html": [
       "<div>\n",
       "<style scoped>\n",
       "    .dataframe tbody tr th:only-of-type {\n",
       "        vertical-align: middle;\n",
       "    }\n",
       "\n",
       "    .dataframe tbody tr th {\n",
       "        vertical-align: top;\n",
       "    }\n",
       "\n",
       "    .dataframe thead th {\n",
       "        text-align: right;\n",
       "    }\n",
       "</style>\n",
       "<table border=\"1\" class=\"dataframe\">\n",
       "  <thead>\n",
       "    <tr style=\"text-align: right;\">\n",
       "      <th></th>\n",
       "      <th>Total Revenue</th>\n",
       "      <th>New Customer Revenue</th>\n",
       "      <th>Existing Customer Growth</th>\n",
       "      <th>Revenue Lost</th>\n",
       "      <th>Existing Revenue (Current Year)</th>\n",
       "      <th>Existing Revenue (Prior Year)</th>\n",
       "      <th>Total Customers (Current Year)</th>\n",
       "      <th>Total Customers (Prior Year)</th>\n",
       "    </tr>\n",
       "  </thead>\n",
       "  <tbody>\n",
       "    <tr>\n",
       "      <th>2015</th>\n",
       "      <td>29036749.19</td>\n",
       "      <td>NaN</td>\n",
       "      <td>NaN</td>\n",
       "      <td>NaN</td>\n",
       "      <td>NaN</td>\n",
       "      <td>NaN</td>\n",
       "      <td>231294.0</td>\n",
       "      <td>NaN</td>\n",
       "    </tr>\n",
       "    <tr>\n",
       "      <th>2016</th>\n",
       "      <td>25730943.59</td>\n",
       "      <td>17206366.90</td>\n",
       "      <td>39043.65</td>\n",
       "      <td>20551216.15</td>\n",
       "      <td>8524576.69</td>\n",
       "      <td>8485533.04</td>\n",
       "      <td>204646.0</td>\n",
       "      <td>231294.0</td>\n",
       "    </tr>\n",
       "    <tr>\n",
       "      <th>2017</th>\n",
       "      <td>31417495.03</td>\n",
       "      <td>21769213.01</td>\n",
       "      <td>63857.06</td>\n",
       "      <td>16146518.63</td>\n",
       "      <td>9648282.02</td>\n",
       "      <td>9584424.96</td>\n",
       "      <td>249987.0</td>\n",
       "      <td>204646.0</td>\n",
       "    </tr>\n",
       "  </tbody>\n",
       "</table>\n",
       "</div>"
      ],
      "text/plain": [
       "      Total Revenue  New Customer Revenue  Existing Customer Growth  \\\n",
       "2015    29036749.19                   NaN                       NaN   \n",
       "2016    25730943.59           17206366.90                  39043.65   \n",
       "2017    31417495.03           21769213.01                  63857.06   \n",
       "\n",
       "      Revenue Lost  Existing Revenue (Current Year)  \\\n",
       "2015           NaN                              NaN   \n",
       "2016   20551216.15                       8524576.69   \n",
       "2017   16146518.63                       9648282.02   \n",
       "\n",
       "      Existing Revenue (Prior Year)  Total Customers (Current Year)  \\\n",
       "2015                            NaN                        231294.0   \n",
       "2016                     8485533.04                        204646.0   \n",
       "2017                     9584424.96                        249987.0   \n",
       "\n",
       "      Total Customers (Prior Year)  \n",
       "2015                           NaN  \n",
       "2016                      231294.0  \n",
       "2017                      204646.0  "
      ]
     },
     "metadata": {},
     "output_type": "display_data"
    }
   ],
   "source": [
    "columns = ['Total Revenue', \n",
    "           'New Customer Revenue', \n",
    "           'Existing Customer Growth', \n",
    "           'Revenue Lost', \n",
    "           'Existing Revenue (Current Year)', \n",
    "           'Existing Revenue (Prior Year)', \n",
    "           'Total Customers (Current Year)', \n",
    "           'Total Customers (Prior Year)'\n",
    "          ]\n",
    "data_2015 = [total_rev.loc[2015], \n",
    "             np.nan, \n",
    "             np.nan, \n",
    "             np.nan, \n",
    "             np.nan, \n",
    "             np.nan, \n",
    "             total_custs_2015, \n",
    "             np.nan]\n",
    "data_2016 = [total_rev.loc[2016], \n",
    "             new_customer_2016_rev, \n",
    "             existing_growth_2016, \n",
    "             revenue_lost_2016, \n",
    "             existing_revenue_2016, \n",
    "             existing_revenue_2015, \n",
    "             total_custs_2016, \n",
    "             total_custs_2015]\n",
    "data_2017 = [total_rev.loc[2017], \n",
    "             new_customer_2017_rev, \n",
    "             existing_growth_2017, \n",
    "             revenue_lost_2017, \n",
    "             existing_revenue_2017, \n",
    "             existing_revenue_2016_1, \n",
    "             total_custs_2017, \n",
    "             total_custs_2016]\n",
    "\n",
    "summary_df = pd.DataFrame(columns = columns)\n",
    "summary_df.loc['2015'] = data_2015\n",
    "summary_df.loc['2016'] = data_2016\n",
    "summary_df.loc['2017'] = data_2017\n",
    "display(summary_df)\n"
   ]
  },
  {
   "cell_type": "code",
   "execution_count": 14,
   "id": "030df7a5",
   "metadata": {},
   "outputs": [
    {
     "data": {
      "image/png": "[encoded data removed]",
      "text/plain": [
       "<Figure size 432x288 with 1 Axes>"
      ]
     },
     "metadata": {
      "needs_background": "light"
     },
     "output_type": "display_data"
    },
    {
     "data": {
      "image/png": "[encoded data removed]",
      "text/plain": [
       "<Figure size 432x288 with 1 Axes>"
      ]
     },
     "metadata": {
      "needs_background": "light"
     },
     "output_type": "display_data"
    },
    {
     "data": {
      "image/png": "[encoded data removed]",
      "text/plain": [
       "<Figure size 432x288 with 1 Axes>"
      ]
     },
     "metadata": {
      "needs_background": "light"
     },
     "output_type": "display_data"
    },
    {
     "data": {
      "image/png": "[encoded data removed]",
      "text/plain": [
       "<Figure size 432x288 with 1 Axes>"
      ]
     },
     "metadata": {
      "needs_background": "light"
     },
     "output_type": "display_data"
    },
    {
     "data": {
      "image/png": "[encoded data removed]",
      "text/plain": [
       "<Figure size 432x288 with 1 Axes>"
      ]
     },
     "metadata": {
      "needs_background": "light"
     },
     "output_type": "display_data"
    },
    {
     "data": {
      "image/png": "[encoded data removed]",
      "text/plain": [
       "<Figure size 432x288 with 1 Axes>"
      ]
     },
     "metadata": {
      "needs_background": "light"
     },
     "output_type": "display_data"
    },
    {
     "data": {
      "image/png": "[encoded data removed]",
      "text/plain": [
       "<Figure size 432x288 with 1 Axes>"
      ]
     },
     "metadata": {
      "needs_background": "light"
     },
     "output_type": "display_data"
    },
    {
     "data": {
      "image/png": "[encoded data removed]",
      "text/plain": [
       "<Figure size 432x288 with 1 Axes>"
      ]
     },
     "metadata": {
      "needs_background": "light"
     },
     "output_type": "display_data"
    }
   ],
   "source": [
    "for col in summary_df.columns:\n",
    "    if any(summary_df[col].isnull()):\n",
    "        plt.figure()\n",
    "        plt.bar(summary_df.index[1:], summary_df[col].iloc[1:])\n",
    "        plt.title('{} Per Year'.format(col))\n",
    "        plt.show()\n",
    "    else:\n",
    "        plt.figure()\n",
    "        plt.bar(summary_df.index, summary_df[col])\n",
    "        plt.title('{} Per Year'.format(col))\n",
    "        plt.show()"
   ]
  },
  {
   "cell_type": "markdown",
   "id": "b3ce209d",
   "metadata": {},
   "source": [
    "### Other plots of interest\n",
    "\n",
    "One thing I was curious about was whether any customers rejoined after churning, and if so is there any trend in their associated revenues?"
   ]
  },
  {
   "cell_type": "code",
   "execution_count": 15,
   "id": "1ab21429",
   "metadata": {},
   "outputs": [
    {
     "name": "stdout",
     "output_type": "stream",
     "text": [
      "0 customers churned in 2016 and rejoined in 2017\n"
     ]
    }
   ],
   "source": [
    "churn_then_rejoined = list(custs_2015.intersection(custs_2017)-custs_2016)\n",
    "print('{} customers churned in 2016 and rejoined in 2017'.format(len(churn_then_rejoined)))"
   ]
  },
  {
   "cell_type": "markdown",
   "id": "39fe8845",
   "metadata": {},
   "source": [
    "Huh! I wouldn't have expected that.\n",
    "\n",
    "How about revenue loss as a percentage of total revenue?"
   ]
  },
  {
   "cell_type": "code",
   "execution_count": 16,
   "id": "3ff8f6ef",
   "metadata": {},
   "outputs": [
    {
     "data": {
      "image/png": "[encoded data removed]",
      "text/plain": [
       "<Figure size 432x288 with 1 Axes>"
      ]
     },
     "metadata": {
      "needs_background": "light"
     },
     "output_type": "display_data"
    }
   ],
   "source": [
    "summary_df['Percent Revenue Loss'] = summary_df['Revenue Lost']/summary_df['Total Revenue']\n",
    "col = 'Percent Revenue Loss'\n",
    "plt.figure()\n",
    "plt.bar(summary_df.index[1:], summary_df[col].iloc[1:])\n",
    "plt.title('{} Per Year'.format(col))\n",
    "plt.show()\n"
   ]
  },
  {
   "cell_type": "markdown",
   "id": "d1af9c8d",
   "metadata": {},
   "source": [
    "Definitely some difference there.\n",
    "\n",
    "I'm curious about the revenue deltas for existing customers year-to-year."
   ]
  },
  {
   "cell_type": "code",
   "execution_count": 22,
   "id": "29be2bd1",
   "metadata": {},
   "outputs": [],
   "source": [
    "pd.options.mode.chained_assignment = None\n",
    "# Customers that existed in 2015 and 2016\n",
    "existing_customer_2015_raw = df_2015.set_index('customer_email').loc[existing_custs_2016]['net_revenue']\n",
    "existing_customer_2016_1_raw = df_2016.set_index('customer_email').loc[existing_custs_2016]['net_revenue']\n",
    "\n",
    "# Customers that existed in 2016 and 2017\n",
    "existing_customer_2016_2_raw = df_2016.set_index('customer_email').loc[existing_custs_2017]['net_revenue']\n",
    "existing_customer_2017_raw = df_2017.set_index('customer_email').loc[existing_custs_2017]['net_revenue']\n",
    "\n",
    "df_2016_existing = df_2016.set_index('customer_email').loc[existing_custs_2016].copy()\n",
    "df_2017_existing = df_2017.set_index('customer_email').loc[existing_custs_2017].copy()\n",
    "df_2016_existing['Existing Customer Rev Delta'] = existing_customer_2016_1_raw - existing_customer_2015_raw\n",
    "df_2017_existing['Existing Customer Rev Delta'] = existing_customer_2017_raw - existing_customer_2016_2_raw\n"
   ]
  },
  {
   "cell_type": "code",
   "execution_count": 28,
   "id": "91925969",
   "metadata": {},
   "outputs": [
    {
     "data": {
      "image/png": "[encoded data removed]",
      "text/plain": [
       "<Figure size 1080x360 with 2 Axes>"
      ]
     },
     "metadata": {
      "needs_background": "light"
     },
     "output_type": "display_data"
    }
   ],
   "source": [
    "fig, (ax, ax2) = plt.subplots(ncols=2, figsize=(15,5))\n",
    "ax.hist(df_2016_existing['Existing Customer Rev Delta'], bins=50)\n",
    "ax.set_title('Revenue Change for Existing Customers (2016)')\n",
    "ax.set_xlabel('Revenue Delta Over Prior Year')\n",
    "ax2.hist(df_2017_existing['Existing Customer Rev Delta'], bins=50)\n",
    "ax2.set_title('Revenue Change for Existing Customers (2017)')\n",
    "ax2.set_xlabel('Revenue Delta Over Prior Year')\n",
    "plt.show()\n"
   ]
  },
  {
   "cell_type": "markdown",
   "id": "fdc750c7",
   "metadata": {},
   "source": [
    "Super symetric. Again, pretty surprising. \n",
    "\n",
    "How about customers that stayed between 2015 and 2016, then exited in 2017?"
   ]
  },
  {
   "cell_type": "code",
   "execution_count": 34,
   "id": "daeba1fa",
   "metadata": {},
   "outputs": [
    {
     "data": {
      "image/png": "[encoded data removed]",
      "text/plain": [
       "<Figure size 432x288 with 1 Axes>"
      ]
     },
     "metadata": {
      "needs_background": "light"
     },
     "output_type": "display_data"
    }
   ],
   "source": [
    "lost_after_staying = list(set(existing_custs_2016).intersection(lost_2016))\n",
    "plt.figure()\n",
    "plt.hist(df_2016_existing.loc[lost_after_staying]['Existing Customer Rev Delta'], bins=50)\n",
    "plt.title('Change in Revenue for Customers that Existed 2015-206 then Churned')\n",
    "plt.xlabel('Revenue Delta 2015-2016')\n",
    "plt.show()"
   ]
  },
  {
   "cell_type": "markdown",
   "id": "253a91d5",
   "metadata": {},
   "source": [
    "I was hoping to see some kind of trend there, perhaps if there was we could create some early intervention program for exiters.\n",
    "\n",
    "I'm interested in who is churning. Is there some kind of trend around amount of spend vs. churn percentage in 2015 and 2016?"
   ]
  },
  {
   "cell_type": "code",
   "execution_count": 16,
   "id": "875ec2eb",
   "metadata": {},
   "outputs": [],
   "source": [
    "bins_rev = [0, 50, 100, 150, 200, 250]\n",
    "labels_rev = ['50', '100', '150','200', '250']\n",
    "df_2015 = df_2015.copy()\n",
    "df_2015 = df_2015.set_index('customer_email')\n",
    "df_2015['Binned_Revenue'] = pd.cut(df_2015['net_revenue'], bins=bins_rev, labels=labels_rev)\n",
    "df_2015['Lost'] = 'Stayed'\n",
    "df_2015['Lost'].loc[lost_2015] = 'Exited'\n",
    "\n",
    "df_2016 = df_2016.copy()\n",
    "df_2016 = df_2016.set_index('customer_email')\n",
    "df_2016['Binned_Revenue'] = pd.cut(df_2016['net_revenue'], bins=bins_rev, labels=labels_rev)\n",
    "df_2016['Lost'] = 'Stayed'\n",
    "df_2016['Lost'].loc[lost_2016] = 'Exited'\n"
   ]
  },
  {
   "cell_type": "code",
   "execution_count": 17,
   "id": "d63e1c59",
   "metadata": {},
   "outputs": [],
   "source": [
    "lost_rev_normed_2015 = df_2015.groupby(['Binned_Revenue','Lost'])['Lost'].count()\n",
    "lost_rev_normed_2015 = lost_rev_normed_2015.groupby(level=0).apply(lambda x:\n",
    "                                                                     100 * x / float(x.sum()))\n",
    "lost_rev_normed_2015 = lost_rev_normed_2015.unstack()\n",
    "\n",
    "lost_rev_normed_2016 = df_2016.groupby(['Binned_Revenue','Lost'])['Lost'].count()\n",
    "lost_rev_normed_2016 = lost_rev_normed_2016.groupby(level=0).apply(lambda x:\n",
    "                                                                     100 * x / float(x.sum()))\n",
    "lost_rev_normed_2016 = lost_rev_normed_2016.unstack()\n"
   ]
  },
  {
   "cell_type": "code",
   "execution_count": 18,
   "id": "96284fb0",
   "metadata": {
    "scrolled": true
   },
   "outputs": [
    {
     "data": {
      "image/png": "[encoded data removed]",
      "text/plain": [
       "<Figure size 1080x360 with 2 Axes>"
      ]
     },
     "metadata": {
      "needs_background": "light"
     },
     "output_type": "display_data"
    }
   ],
   "source": [
    "fig, (ax, ax2) = plt.subplots(ncols=2, figsize=(15,5))\n",
    "lost_rev_normed_2015.plot.area(ax = ax)\n",
    "ax.set_title('Loss Percentage as a Function of Spend (2015)')\n",
    "ax.set_xlabel('Spend Rate')\n",
    "ax.set_ylabel('Percent Lost')\n",
    "lost_rev_normed_2016.plot.area(ax = ax2)\n",
    "ax2.set_title('Loss Percentage as a Function of Spend (2016)')\n",
    "ax2.set_xlabel('Spend Rate')\n",
    "ax2.set_ylabel('Percent Lost')\n",
    "plt.show()\n"
   ]
  },
  {
   "cell_type": "markdown",
   "id": "1eb80da7",
   "metadata": {},
   "source": [
    "They're almost identical across spend bracket! The only difference in each year is seems to be the average overall rate. I wouldn't have expected that. \n",
    "\n",
    "This dataset has stumped me. "
   ]
  }
 ],
 "metadata": {
  "kernelspec": {
   "display_name": "xai",
   "language": "python",
   "name": "xai"
  },
  "language_info": {
   "codemirror_mode": {
    "name": "ipython",
    "version": 3
   },
   "file_extension": ".py",
   "mimetype": "text/x-python",
   "name": "python",
   "nbconvert_exporter": "python",
   "pygments_lexer": "ipython3",
   "version": "3.8.12"
  }
 },
 "nbformat": 4,
 "nbformat_minor": 5
}
